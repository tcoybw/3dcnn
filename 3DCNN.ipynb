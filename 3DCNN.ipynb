{
 "cells": [
  {
   "cell_type": "code",
   "execution_count": 1,
   "metadata": {},
   "outputs": [],
   "source": [
    "import torch\n",
    "import torch.nn as nn\n",
    "import pandas as pd\n",
    "import nibabel as nib\n",
    "import os\n",
    "import numpy as np\n",
    "from torch.utils.data import Dataset, DataLoader, random_split\n",
    "from sklearn.model_selection import train_test_split\n",
    "from tqdm import tqdm\n",
    "import torch.optim as optim\n",
    "import matplotlib.pyplot as plt\n",
    "import torchvision.transforms as transforms"
   ]
  },
  {
   "cell_type": "markdown",
   "metadata": {},
   "source": [
    "### Collecting data from given files"
   ]
  },
  {
   "cell_type": "code",
   "execution_count": 2,
   "metadata": {},
   "outputs": [
    {
     "name": "stdout",
     "output_type": "stream",
     "text": [
      "        eid                                               Data  age\n",
      "0   2769508  [[[0.0, 0.0, 0.0, 0.0, 0.0, 0.0, 0.0, 0.0, 0.0...   59\n",
      "1   2842514  [[[0.0, 0.0, 0.0, 0.0, 0.0, 0.0, 0.0, 0.0, 0.0...   49\n",
      "2   2878974  [[[0.0, 0.0, 0.0, 0.0, 0.0, 0.0, 0.0, 0.0, 0.0...   61\n",
      "3   2890203  [[[0.0, 0.0, 0.0, 0.0, 0.0, 0.0, 0.0, 0.0, 0.0...   43\n",
      "4   2925953  [[[0.0, 0.0, 0.0, 0.0, 0.0, 0.0, 0.0, 0.0, 0.0...   57\n",
      "..      ...                                                ...  ...\n",
      "63  5884327  [[[0.0, 0.0, 0.0, 0.0, 0.0, 0.0, 0.0, 0.0, 0.0...   60\n",
      "64  5906306  [[[0.0, 0.0, 0.0, 0.0, 0.0, 0.0, 0.0, 0.0, 0.0...   44\n",
      "65  5906306  [[[0.0, 0.0, 0.0, 0.0, 0.0, 0.0, 0.0, 0.0, 0.0...   44\n",
      "66  5906306  [[[0.0, 0.0, 0.0, 0.0, 0.0, 0.0, 0.0, 0.0, 0.0...   44\n",
      "67  5906306  [[[0.0, 0.0, 0.0, 0.0, 0.0, 0.0, 0.0, 0.0, 0.0...   44\n",
      "\n",
      "[68 rows x 3 columns]\n"
     ]
    }
   ],
   "source": [
    "def read_eids_from_file(file_path):\n",
    "    with open(file_path, 'r') as file:\n",
    "        eids = [line.strip().replace('sub-', '') for line in file.readlines()]\n",
    "    return eids\n",
    "\n",
    "def read_mgz_files(base_directory, eids):\n",
    "    # List to store data\n",
    "    data_list = []\n",
    "    # List to store EIDs\n",
    "    eid_list = []\n",
    "    # Iterate over EIDs\n",
    "    for eid in eids:\n",
    "        # Construct the path to the directory containing .mgz files for each EID\n",
    "        mgz_file_path = os.path.join(base_directory,f'sub-{eid}','mri','brain.mgz')\n",
    "        if os.path.exists(mgz_file_path):\n",
    "            # Read .mgz file using nibabel\n",
    "            mgz_data = nib.load(mgz_file_path)\n",
    "            # Extract data array\n",
    "            data_array = mgz_data.get_fdata().astype('float32')\n",
    "            # Check if the data can be reshaped to 256x256x256\n",
    "            if data_array.shape == (256, 256, 256):\n",
    "                # Append the data and EID to the respective lists\n",
    "                data_list.append(data_array)\n",
    "                eid_list.append(eid)\n",
    "            else:\n",
    "                print(f\"Data shape mismatch for {mgz_file_path}: {data_array.shape}\")\n",
    "        else:\n",
    "            print(f\"File not found: {mgz_file_path}\")\n",
    "    # Create a DataFrame with EID as the reference name\n",
    "    df = pd.DataFrame({'eid': eid_list, 'Data': data_list})\n",
    "    return df    \n",
    "\n",
    "# Path to the file containing EIDs\n",
    "eid_file_path = 'C:/Users/oybw/Desktop/nick/3DCNN_brain_age/sample_64/pilot_study_64_sub-EID.txt'\n",
    "# Base directory path where the .mgz files are stored\n",
    "base_directory_path = 'C:/Users/oybw/Desktop/nick/3DCNN_brain_age/sample_64'\n",
    "# Path to the CSV file containing age data\n",
    "age_csv_file_path = os.path.join(base_directory_path, 'pilot_study_64_table.csv')\n",
    "\n",
    "# Read the EIDs from the file\n",
    "eids = read_eids_from_file(eid_file_path)\n",
    "\n",
    "# Read the .mgz files and create a DataFrame\n",
    "df = read_mgz_files(base_directory_path, eids)\n",
    "df['eid'] = df['eid'].astype('int32')\n",
    "\n",
    "# Read the age CSV file into a DataFrame\n",
    "age_df = pd.read_csv(age_csv_file_path)\n",
    "\n",
    "# Merge the data DataFrame with the age DataFrame on the EID column\n",
    "merged_df = pd.merge(df, age_df[['eid', 'age']], on='eid', how='left')\n",
    "\n",
    "# Display the DataFrame\n",
    "print(merged_df)\n"
   ]
  },
  {
   "cell_type": "markdown",
   "metadata": {},
   "source": [
    "### Load saved data for saving time"
   ]
  },
  {
   "cell_type": "code",
   "execution_count": 2,
   "metadata": {},
   "outputs": [],
   "source": [
    "merged_df = pd.read_pickle(\"./sample.pkl\")"
   ]
  },
  {
   "cell_type": "markdown",
   "metadata": {},
   "source": [
    "### Create training and evaluating dataset"
   ]
  },
  {
   "cell_type": "code",
   "execution_count": 3,
   "metadata": {},
   "outputs": [
    {
     "name": "stdout",
     "output_type": "stream",
     "text": [
      "Data batch shape: torch.Size([2, 1, 256, 256, 256])\n",
      "Age batch: tensor([44., 61.])\n"
     ]
    }
   ],
   "source": [
    "class BrainDataset(Dataset):\n",
    "    def __init__(self, dataframe, transform = None):\n",
    "        self.dataframe = dataframe\n",
    "        self.transform = transform\n",
    "    def __len__(self):\n",
    "        return len(self.dataframe)\n",
    "\n",
    "    def __getitem__(self, idx):\n",
    "        data = self.dataframe.iloc[idx]['Data']\n",
    "        age = self.dataframe.iloc[idx]['age']\n",
    "        \n",
    "        # Convert data and age to PyTorch tensors\n",
    "        data = torch.tensor(data, dtype=torch.float32).unsqueeze(0)  # Add channel dimension\n",
    "        age = torch.tensor(age, dtype=torch.float32)\n",
    "        \n",
    "        if self.transform:\n",
    "            data = self.transform(data)\n",
    "        \n",
    "        return data, age\n",
    "\n",
    "# Define augmentation transforms\n",
    "augmentation_transforms = transforms.Compose([\n",
    "    transforms.RandomHorizontalFlip(),\n",
    "    transforms.RandomVerticalFlip(),\n",
    "    transforms.RandomRotation(10),\n",
    "    # Add other transforms as needed\n",
    "])\n",
    "\n",
    "# Split the DataFrame into training and evaluation sets\n",
    "train_df, eval_df = train_test_split(merged_df, test_size=0.2, random_state=42)\n",
    "\n",
    "# Create instances of the dataset\n",
    "train_dataset = BrainDataset(train_df, transform=augmentation_transforms)\n",
    "eval_dataset = BrainDataset(eval_df)\n",
    "\n",
    "# Create dataloaders with certain batch_size\n",
    "# Here I use batch_size = 1 because out of memory for GPU\n",
    "train_loader = DataLoader(train_dataset, batch_size=2, shuffle=True)\n",
    "eval_loader = DataLoader(eval_dataset, batch_size=2, shuffle=False)\n",
    "\n",
    "# Print the first batch to check the data\n",
    "for data, age in train_loader:\n",
    "    print(\"Data batch shape:\", data.shape)\n",
    "    print(\"Age batch:\", age)\n",
    "    break\n"
   ]
  },
  {
   "cell_type": "markdown",
   "metadata": {},
   "source": [
    "### Build 3DCNN model"
   ]
  },
  {
   "cell_type": "code",
   "execution_count": 4,
   "metadata": {},
   "outputs": [
    {
     "name": "stdout",
     "output_type": "stream",
     "text": [
      "CNN3D(\n",
      "  (conv1): Conv3d(1, 16, kernel_size=(6, 6, 6), stride=(1, 1, 1))\n",
      "  (pool1): MaxPool3d(kernel_size=2, stride=2, padding=0, dilation=1, ceil_mode=False)\n",
      "  (bn1): BatchNorm3d(16, eps=1e-05, momentum=0.1, affine=True, track_running_stats=True)\n",
      "  (conv2): Conv3d(16, 32, kernel_size=(6, 6, 6), stride=(1, 1, 1))\n",
      "  (pool2): MaxPool3d(kernel_size=2, stride=2, padding=0, dilation=1, ceil_mode=False)\n",
      "  (bn2): BatchNorm3d(32, eps=1e-05, momentum=0.1, affine=True, track_running_stats=True)\n",
      "  (dropout1): Dropout3d(p=0.2, inplace=False)\n",
      "  (conv3): Conv3d(32, 64, kernel_size=(6, 6, 6), stride=(1, 1, 1))\n",
      "  (pool3): MaxPool3d(kernel_size=2, stride=2, padding=0, dilation=1, ceil_mode=False)\n",
      "  (bn3): BatchNorm3d(64, eps=1e-05, momentum=0.1, affine=True, track_running_stats=True)\n",
      "  (dropout2): Dropout3d(p=0.2, inplace=False)\n",
      "  (conv4): Conv3d(64, 128, kernel_size=(6, 6, 6), stride=(1, 1, 1))\n",
      "  (pool4): MaxPool3d(kernel_size=2, stride=2, padding=0, dilation=1, ceil_mode=False)\n",
      "  (bn4): BatchNorm3d(128, eps=1e-05, momentum=0.1, affine=True, track_running_stats=True)\n",
      "  (dropout3): Dropout3d(p=0.2, inplace=False)\n",
      "  (global_avg_pool): AdaptiveAvgPool3d(output_size=(1, 1, 1))\n",
      "  (fc1): Linear(in_features=128, out_features=128, bias=True)\n",
      "  (dropout4): Dropout(p=0.3, inplace=False)\n",
      "  (fc2): Linear(in_features=128, out_features=1, bias=True)\n",
      ")\n"
     ]
    }
   ],
   "source": [
    "class CNN3D(nn.Module):\n",
    "    def __init__(self, width=256, height=256, depth=256):\n",
    "        super(CNN3D, self).__init__()\n",
    "\n",
    "        # Define layers similar to the TensorFlow model\n",
    "        self.conv1 = nn.Conv3d(1, 16, kernel_size=6, stride=1, padding=0)\n",
    "        self.pool1 = nn.MaxPool3d(kernel_size=2)\n",
    "        self.bn1 = nn.BatchNorm3d(16)\n",
    "\n",
    "        self.conv2 = nn.Conv3d(16, 32, kernel_size=6, stride=1, padding=0)\n",
    "        self.pool2 = nn.MaxPool3d(kernel_size=2)\n",
    "        self.bn2 = nn.BatchNorm3d(32)\n",
    "        self.dropout1 = nn.Dropout3d(p=0.2)\n",
    "\n",
    "        self.conv3 = nn.Conv3d(32, 64, kernel_size=6, stride=1, padding=0)\n",
    "        self.pool3 = nn.MaxPool3d(kernel_size=2)\n",
    "        self.bn3 = nn.BatchNorm3d(64)\n",
    "        self.dropout2 = nn.Dropout3d(p=0.2)\n",
    "\n",
    "        self.conv4 = nn.Conv3d(64, 128, kernel_size=6, stride=1, padding=0)\n",
    "        self.pool4 = nn.MaxPool3d(kernel_size=2)\n",
    "        self.bn4 = nn.BatchNorm3d(128)\n",
    "        self.dropout3 = nn.Dropout3d(p=0.2)\n",
    "\n",
    "        self.global_avg_pool = nn.AdaptiveAvgPool3d((1, 1, 1))\n",
    "        self.fc1 = nn.Linear(128, 128)\n",
    "        self.dropout4 = nn.Dropout(p=0.3)\n",
    "        self.fc2 = nn.Linear(128, 1)\n",
    "\n",
    "    def forward(self, x):\n",
    "        # Convolutional layers with activations and pooling\n",
    "        x = self.pool1(self.bn1(nn.functional.relu(self.conv1(x))))\n",
    "        x = self.dropout1(self.pool2(self.bn2(nn.functional.relu(self.conv2(x)))))\n",
    "        x = self.dropout2(self.pool3(self.bn3(nn.functional.relu(self.conv3(x)))))\n",
    "        x = self.dropout3(self.pool4(self.bn4(nn.functional.relu(self.conv4(x)))))\n",
    "\n",
    "        # Global average pooling and fully connected layers\n",
    "        x = self.global_avg_pool(x)\n",
    "        x = torch.flatten(x, 1)\n",
    "        x = nn.functional.relu(self.fc1(x))\n",
    "        x = self.dropout4(x)\n",
    "        x = self.fc2(x)\n",
    "        \n",
    "        return x\n",
    "\n",
    "# Create model\n",
    "model = CNN3D()\n",
    "\n",
    "# Print the model architecture\n",
    "print(model)\n"
   ]
  },
  {
   "cell_type": "markdown",
   "metadata": {},
   "source": [
    "### Model training"
   ]
  },
  {
   "cell_type": "code",
   "execution_count": 5,
   "metadata": {},
   "outputs": [
    {
     "name": "stderr",
     "output_type": "stream",
     "text": [
      "Epoch 1/100:   0%|          | 0/27 [00:00<?, ?batch/s]c:\\Users\\oybw\\anaconda3\\Lib\\site-packages\\torch\\nn\\modules\\conv.py:605: UserWarning: Plan failed with a cudnnException: CUDNN_BACKEND_EXECUTION_PLAN_DESCRIPTOR: cudnnFinalize Descriptor Failed cudnn_status: CUDNN_STATUS_NOT_SUPPORTED (Triggered internally at ..\\aten\\src\\ATen\\native\\cudnn\\Conv_v8.cpp:919.)\n",
      "  return F.conv3d(\n",
      "Epoch 1/100: 100%|██████████| 27/27 [22:48<00:00, 50.69s/batch, Loss=14.2] \n"
     ]
    },
    {
     "name": "stdout",
     "output_type": "stream",
     "text": [
      "Epoch 1/100, Epoch Loss: 29.4805\n"
     ]
    },
    {
     "name": "stderr",
     "output_type": "stream",
     "text": [
      "Epoch 2/100:  41%|████      | 11/27 [02:16<02:27,  9.23s/batch, Loss=19.7]"
     ]
    }
   ],
   "source": [
    "# Define loss function and optimizer\n",
    "criterion = nn.L1Loss()\n",
    "optimizer = optim.AdamW(model.parameters(), lr=0.01, weight_decay=1e-5)\n",
    "scheduler = torch.optim.lr_scheduler.ReduceLROnPlateau(optimizer, 'min', patience=2, factor=0.5)  # Example scheduler\n",
    "\n",
    "# Training loop\n",
    "num_epochs = 100\n",
    "\n",
    "device = torch.device(\"cuda\" if torch.cuda.is_available() else \"cpu\") #'cpu'\n",
    "model.to(device)\n",
    "\n",
    "# Record train loss, evaluate loss, outputs age and true age\n",
    "train_losses = []\n",
    "eval_losses = []\n",
    "all_outputs = []\n",
    "all_ages = []\n",
    "\n",
    "for epoch in range(num_epochs):\n",
    "    model.train()\n",
    "    running_loss = 0.0\n",
    "    min_epoch_loss = float('inf')\n",
    "\n",
    "    train_loader_tqdm = tqdm(train_loader, desc=f\"Epoch {epoch+1}/{num_epochs}\", unit=\"batch\")\n",
    "    for data, age in train_loader_tqdm:\n",
    "        # Move tensors to the appropriate device (GPU or CPU)\n",
    "        data, age = data.to(device), age.to(device)\n",
    "\n",
    "        # Zero the parameter gradients\n",
    "        optimizer.zero_grad()\n",
    "\n",
    "        # Forward pass\n",
    "        outputs = model(data)\n",
    "        loss = criterion(outputs.squeeze(), age)\n",
    "        \n",
    "        # Backward pass and optimize\n",
    "        loss.backward()\n",
    "        optimizer.step()\n",
    "        \n",
    "        running_loss += loss.item() * data.size(0)\n",
    "        train_loader_tqdm.set_postfix({\"Loss\": loss.item()})\n",
    "\n",
    "    epoch_loss = running_loss / len(train_dataset)\n",
    "    if epoch_loss < min_epoch_loss:\n",
    "        # Save the model state dictionary\n",
    "        torch.save(model.state_dict(), 'model_best.pth')\n",
    "        min_epoch_loss = epoch_loss\n",
    "    print(f\"Epoch {epoch+1}/{num_epochs}, Epoch Loss: {epoch_loss:.4f}\")\n",
    "    train_losses.append(epoch_loss)\n",
    "\n",
    "    # Validation phase\n",
    "    model.eval()\n",
    "    eval_loss = 0.0\n",
    "    with torch.no_grad():\n",
    "        for data, age in eval_loader:\n",
    "            data, age = data.to(device), age.to(device)\n",
    "            outputs = model(data)\n",
    "            loss = criterion(outputs.squeeze(), age)\n",
    "            eval_loss += loss.item()\n",
    "\n",
    "    # Calculate average validation loss\n",
    "    avg_eval_loss = eval_loss / len(eval_loader)\n",
    "\n",
    "    scheduler.step(avg_eval_loss)  # Update the learning rate\n",
    "\n",
    "print(\"Training complete\")\n"
   ]
  },
  {
   "cell_type": "markdown",
   "metadata": {},
   "source": [
    "### Model evaluation"
   ]
  },
  {
   "cell_type": "code",
   "execution_count": 11,
   "metadata": {},
   "outputs": [
    {
     "name": "stdout",
     "output_type": "stream",
     "text": [
      "Evaluation Loss: 7.3905\n"
     ]
    }
   ],
   "source": [
    "# Evaluation phase\n",
    "model = CNN3D().to(device)\n",
    "# Load the model state dictionary\n",
    "model.load_state_dict(torch.load('model_best.pth'))\n",
    "\n",
    "model.eval()\n",
    "eval_loss = 0.0\n",
    "epoch_outputs = []\n",
    "epoch_ages = []\n",
    "with torch.no_grad():\n",
    "    for data, age in eval_loader:\n",
    "        data, age = data.to(device), age.to(device)\n",
    "        outputs = model(data)\n",
    "        loss = criterion(outputs.squeeze(), age)\n",
    "        eval_loss += loss.item() * data.size(0)\n",
    "\n",
    "        epoch_outputs.extend(outputs.cpu().numpy())\n",
    "        epoch_ages.extend(age.cpu().numpy())\n",
    "    \n",
    "eval_loss = eval_loss / len(eval_dataset)\n",
    "eval_losses.append(eval_loss)\n",
    "all_outputs.extend(epoch_outputs)\n",
    "all_ages.extend(epoch_ages)\n",
    "print(f\"Evaluation Loss: {eval_loss:.4f}\")"
   ]
  },
  {
   "cell_type": "markdown",
   "metadata": {},
   "source": [
    "### Plot for train loss vs evaluation loss"
   ]
  },
  {
   "cell_type": "code",
   "execution_count": 8,
   "metadata": {},
   "outputs": [
    {
     "data": {
      "image/png": "[encoded data removed]",
      "text/plain": [
       "<Figure size 1000x500 with 1 Axes>"
      ]
     },
     "metadata": {},
     "output_type": "display_data"
    },
    {
     "data": {
      "text/plain": [
       "<Figure size 1000x500 with 0 Axes>"
      ]
     },
     "metadata": {},
     "output_type": "display_data"
    },
    {
     "data": {
      "image/png": "[encoded data removed]",
      "text/plain": [
       "<Figure size 1000x500 with 1 Axes>"
      ]
     },
     "metadata": {},
     "output_type": "display_data"
    }
   ],
   "source": [
    "# Plot the training loss\n",
    "plt.figure(figsize=(10, 5))\n",
    "plt.plot(range(1, num_epochs + 1), train_losses, label='Training Loss')\n",
    "plt.xlabel('Epoch')\n",
    "plt.ylabel('Loss')\n",
    "plt.title('Training Loss')\n",
    "plt.legend()\n",
    "plt.show()\n",
    "\n",
    "# Plot the evaluation outputs vs actual age\n",
    "plt.figure(figsize=(10, 5))\n",
    "plt.figure(figsize=(10, 5))\n",
    "plt.scatter(range(len(all_outputs)), all_outputs, color='blue', alpha=0.7, label='Predicted Age')\n",
    "plt.scatter(range(len(all_ages)), all_ages, color='red', alpha=0.7, label='Actual Age')\n",
    "plt.xlabel('Index')\n",
    "plt.ylabel('Age')\n",
    "plt.title('Evaluation Outputs vs Actual Age')\n",
    "plt.legend()\n",
    "plt.show()"
   ]
  },
  {
   "cell_type": "code",
   "execution_count": 11,
   "metadata": {},
   "outputs": [
    {
     "name": "stdout",
     "output_type": "stream",
     "text": [
      "[55.0, 43.0, 57.0, 67.0, 60.0, 52.0, 55.0, 41.0, 56.0, 61.0, 58.0, 44.0, 46.0, 59.0]\n"
     ]
    }
   ],
   "source": [
    "print(all_ages)"
   ]
  }
 ],
 "metadata": {
  "kernelspec": {
   "display_name": "base",
   "language": "python",
   "name": "python3"
  },
  "language_info": {
   "codemirror_mode": {
    "name": "ipython",
    "version": 3
   },
   "file_extension": ".py",
   "mimetype": "text/x-python",
   "name": "python",
   "nbconvert_exporter": "python",
   "pygments_lexer": "ipython3",
   "version": "3.11.7"
  }
 },
 "nbformat": 4,
 "nbformat_minor": 2
}
